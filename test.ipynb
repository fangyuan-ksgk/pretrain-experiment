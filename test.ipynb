{
 "cells": [
  {
   "cell_type": "code",
   "execution_count": 1,
   "metadata": {},
   "outputs": [],
   "source": [
    "from model.model import Transformer, LMConfig\n",
    "\n",
    "config = LMConfig()\n",
    "transformer = Transformer(config)"
   ]
  },
  {
   "cell_type": "code",
   "execution_count": 3,
   "metadata": {},
   "outputs": [
    {
     "name": "stdout",
     "output_type": "stream",
     "text": [
      "Shape of pos_cos_repeated:  torch.Size([1, 10, 1, 32])\n",
      "Shape of pos_sin_repeated:  torch.Size([1, 10, 1, 32])\n",
      "Shape of xq:  torch.Size([2, 10, 16, 32])\n",
      "Shape of xk:  torch.Size([2, 10, 8, 32])\n",
      "Shape of pos_cos_repeated:  torch.Size([1, 10, 1, 32])\n",
      "Shape of pos_sin_repeated:  torch.Size([1, 10, 1, 32])\n",
      "Shape of xq:  torch.Size([2, 10, 16, 32])\n",
      "Shape of xk:  torch.Size([2, 10, 8, 32])\n",
      "Shape of pos_cos_repeated:  torch.Size([1, 10, 1, 32])\n",
      "Shape of pos_sin_repeated:  torch.Size([1, 10, 1, 32])\n",
      "Shape of xq:  torch.Size([2, 10, 16, 32])\n",
      "Shape of xk:  torch.Size([2, 10, 8, 32])\n",
      "Shape of pos_cos_repeated:  torch.Size([1, 10, 1, 32])\n",
      "Shape of pos_sin_repeated:  torch.Size([1, 10, 1, 32])\n",
      "Shape of xq:  torch.Size([2, 10, 16, 32])\n",
      "Shape of xk:  torch.Size([2, 10, 8, 32])\n",
      "Shape of pos_cos_repeated:  torch.Size([1, 10, 1, 32])\n",
      "Shape of pos_sin_repeated:  torch.Size([1, 10, 1, 32])\n",
      "Shape of xq:  torch.Size([2, 10, 16, 32])\n",
      "Shape of xk:  torch.Size([2, 10, 8, 32])\n",
      "Shape of pos_cos_repeated:  torch.Size([1, 10, 1, 32])\n",
      "Shape of pos_sin_repeated:  torch.Size([1, 10, 1, 32])\n",
      "Shape of xq:  torch.Size([2, 10, 16, 32])\n",
      "Shape of xk:  torch.Size([2, 10, 8, 32])\n",
      "Shape of pos_cos_repeated:  torch.Size([1, 10, 1, 32])\n",
      "Shape of pos_sin_repeated:  torch.Size([1, 10, 1, 32])\n",
      "Shape of xq:  torch.Size([2, 10, 16, 32])\n",
      "Shape of xk:  torch.Size([2, 10, 8, 32])\n",
      "Shape of pos_cos_repeated:  torch.Size([1, 10, 1, 32])\n",
      "Shape of pos_sin_repeated:  torch.Size([1, 10, 1, 32])\n",
      "Shape of xq:  torch.Size([2, 10, 16, 32])\n",
      "Shape of xk:  torch.Size([2, 10, 8, 32])\n"
     ]
    }
   ],
   "source": [
    "# Test forward pass\n",
    "import torch\n",
    "\n",
    "# Create a sample input tensor\n",
    "batch_size = 2\n",
    "seq_length = 10\n",
    "input_ids = torch.randint(0, config.vocab_size, (batch_size, seq_length))\n",
    "\n",
    "# Perform a forward pass\n",
    "output = transformer(input_ids)"
   ]
  },
  {
   "cell_type": "code",
   "execution_count": null,
   "metadata": {},
   "outputs": [],
   "source": []
  }
 ],
 "metadata": {
  "kernelspec": {
   "display_name": "base",
   "language": "python",
   "name": "python3"
  },
  "language_info": {
   "codemirror_mode": {
    "name": "ipython",
    "version": 3
   },
   "file_extension": ".py",
   "mimetype": "text/x-python",
   "name": "python",
   "nbconvert_exporter": "python",
   "pygments_lexer": "ipython3",
   "version": "3.11.5"
  }
 },
 "nbformat": 4,
 "nbformat_minor": 2
}

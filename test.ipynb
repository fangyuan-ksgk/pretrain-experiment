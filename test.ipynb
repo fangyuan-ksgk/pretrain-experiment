{
 "cells": [
  {
   "cell_type": "code",
   "execution_count": 1,
   "metadata": {},
   "outputs": [],
   "source": [
    "import torch\n",
    "import math\n",
    "\n",
    "def create_rope_rotate_matrix(dim, max_seq_len, device=None):\n",
    "    \"\"\"\n",
    "    Create the full RoPE rotation matrix.\n",
    "    \n",
    "    Args:\n",
    "    dim (int): Embedding dimension (must be even)\n",
    "    max_seq_len (int): Maximum sequence length\n",
    "    device: torch device\n",
    "\n",
    "    Returns:\n",
    "    torch.Tensor: Rotation matrix of shape (max_seq_len, dim, dim)\n",
    "    \"\"\"\n",
    "    assert dim % 2 == 0, \"Dimension must be even\"\n",
    "    \n",
    "    # Create the theta values\n",
    "    theta = 10000 ** (-2 * torch.arange(1, dim//2 + 1, device=device) / dim)\n",
    "    \n",
    "    # Create position indices\n",
    "    m = torch.arange(max_seq_len, device=device).unsqueeze(1)\n",
    "    \n",
    "    # Compute all mθ values\n",
    "    m_theta = m * theta.unsqueeze(0)\n",
    "    \n",
    "    # Initialize the rotation matrix\n",
    "    rotate_matrix = torch.zeros(max_seq_len, dim, dim, device=device)\n",
    "    \n",
    "    for i in range(dim // 2):\n",
    "        cos_theta = torch.cos(m_theta[:, i])\n",
    "        sin_theta = torch.sin(m_theta[:, i])\n",
    "        \n",
    "        # Fill in the 2x2 rotation submatrices\n",
    "        rotate_matrix[:, 2*i, 2*i] = cos_theta\n",
    "        rotate_matrix[:, 2*i, 2*i+1] = -sin_theta\n",
    "        rotate_matrix[:, 2*i+1, 2*i] = sin_theta\n",
    "        rotate_matrix[:, 2*i+1, 2*i+1] = cos_theta\n",
    "    \n",
    "    return rotate_matrix"
   ]
  },
  {
   "cell_type": "code",
   "execution_count": 6,
   "metadata": {},
   "outputs": [
    {
     "data": {
      "text/plain": [
       "tensor([[[1., -0., 0., 0.],\n",
       "         [0., 1., 0., 0.],\n",
       "         [0., 0., 1., -0.],\n",
       "         [0., 0., 0., 1.]]])"
      ]
     },
     "execution_count": 6,
     "metadata": {},
     "output_type": "execute_result"
    }
   ],
   "source": [
    "create_rope_rotate_matrix(4, 1)"
   ]
  },
  {
   "cell_type": "code",
   "execution_count": null,
   "metadata": {},
   "outputs": [],
   "source": []
  }
 ],
 "metadata": {
  "kernelspec": {
   "display_name": "base",
   "language": "python",
   "name": "python3"
  },
  "language_info": {
   "codemirror_mode": {
    "name": "ipython",
    "version": 3
   },
   "file_extension": ".py",
   "mimetype": "text/x-python",
   "name": "python",
   "nbconvert_exporter": "python",
   "pygments_lexer": "ipython3",
   "version": "3.11.5"
  }
 },
 "nbformat": 4,
 "nbformat_minor": 2
}
